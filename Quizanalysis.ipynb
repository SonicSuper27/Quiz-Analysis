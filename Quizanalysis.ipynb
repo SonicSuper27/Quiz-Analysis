{
 "cells": [
  {
   "cell_type": "code",
   "execution_count": 1,
   "id": "256fb00f-983c-4f33-a66e-7cd5bf566aa6",
   "metadata": {},
   "outputs": [],
   "source": [
    "import pandas as pd\n",
    "import numpy as np\n",
    "import matplotlib.pyplot as plt\n",
    "import seaborn as sns\n"
   ]
  },
  {
   "cell_type": "code",
   "execution_count": 11,
   "id": "b68877e0-246d-47fa-abbb-95f2f39f48d1",
   "metadata": {},
   "outputs": [
    {
     "name": "stdout",
     "output_type": "stream",
     "text": [
      "Enter Current Quiz Data:\n"
     ]
    },
    {
     "name": "stdin",
     "output_type": "stream",
     "text": [
      "Number of questions:  1\n"
     ]
    },
    {
     "name": "stdout",
     "output_type": "stream",
     "text": [
      "Enter details for question 1:\n"
     ]
    },
    {
     "name": "stdin",
     "output_type": "stream",
     "text": [
      "Question ID:  1\n",
      "Topic:  Structural Organisation in Animals and Plants\n",
      "Difficulty (Easy/Medium/Hard):  Easy\n",
      "Correct (True/False):  False\n"
     ]
    },
    {
     "name": "stdout",
     "output_type": "stream",
     "text": [
      "\n",
      "Enter Historical Quiz Data:\n"
     ]
    },
    {
     "name": "stdin",
     "output_type": "stream",
     "text": [
      "Number of historical quizzes:  2\n"
     ]
    },
    {
     "name": "stdout",
     "output_type": "stream",
     "text": [
      "Enter details for quiz 1:\n"
     ]
    },
    {
     "name": "stdin",
     "output_type": "stream",
     "text": [
      "Quiz ID:  2\n",
      "Score:  108\n",
      "Number of responses:  3\n",
      "Question ID for response 1:  1\n",
      "Correct (True/False):  True\n",
      "Question ID for response 2:  2\n",
      "Correct (True/False):  False\n",
      "Question ID for response 3:  3\n",
      "Correct (True/False):  True\n"
     ]
    },
    {
     "name": "stdout",
     "output_type": "stream",
     "text": [
      "Enter details for quiz 2:\n"
     ]
    },
    {
     "name": "stdin",
     "output_type": "stream",
     "text": [
      "Quiz ID:  1\n",
      "Score:  108\n",
      "Number of responses:  1\n",
      "Question ID for response 1:  4\n",
      "Correct (True/False):  True\n"
     ]
    }
   ],
   "source": [
    "# Step 1: User Input for Quiz Data\n",
    "def get_user_input():\n",
    "    print(\"Enter Current Quiz Data:\")\n",
    "    num_questions = int(input(\"Number of questions: \"))\n",
    "    current_quiz_data = {\"user_id\": 1, \"questions\": []}\n",
    "\n",
    "    for i in range(num_questions):\n",
    "        print(f\"Enter details for question {i + 1}:\")\n",
    "        question_id = int(input(\"Question ID: \"))\n",
    "        topic = input(\"Topic: \")\n",
    "        difficulty = input(\"Difficulty (Easy/Medium/Hard): \")\n",
    "        correct = input(\"Correct (True/False): \").lower() == \"true\"\n",
    "        current_quiz_data[\"questions\"].append({\n",
    "            \"question_id\": question_id, \"topic\": topic, \"difficulty\": difficulty, \"correct\": correct\n",
    "        })\n",
    "\n",
    "    print(\"\\nEnter Historical Quiz Data:\")\n",
    "    num_quizzes = int(input(\"Number of historical quizzes: \"))\n",
    "    historical_quiz_data = []\n",
    "\n",
    "    for i in range(num_quizzes):\n",
    "        print(f\"Enter details for quiz {i + 1}:\")\n",
    "        quiz_id = int(input(\"Quiz ID: \"))\n",
    "        score = int(input(\"Score: \"))\n",
    "        response_map = {}\n",
    "\n",
    "        num_responses = int(input(\"Number of responses: \"))\n",
    "        for j in range(num_responses):\n",
    "            question_id = int(input(f\"Question ID for response {j + 1}: \"))\n",
    "            correct = input(\"Correct (True/False): \").lower() == \"true\"\n",
    "            response_map[question_id] = correct\n",
    "\n",
    "        historical_quiz_data.append({\"quiz_id\": quiz_id, \"score\": score, \"response_map\": response_map})\n",
    "\n",
    "    return current_quiz_data, historical_quiz_data\n",
    "\n",
    "current_quiz_data, historical_quiz_data = get_user_input()"
   ]
  },
  {
   "cell_type": "code",
   "execution_count": 13,
   "id": "f961afd1-97cf-4913-bd9f-07dc1cbfcfb2",
   "metadata": {},
   "outputs": [],
   "source": [
    "# Step 2: Data Preparation\n",
    "def prepare_current_quiz_df(data):\n",
    "    return pd.DataFrame(data['questions'])\n",
    "\n",
    "def prepare_historical_quiz_df(data):\n",
    "    records = []\n",
    "    for quiz in data:\n",
    "        for qid, correct in quiz['response_map'].items():\n",
    "            records.append({\n",
    "                \"quiz_id\": quiz['quiz_id'],\n",
    "                \"question_id\": qid,\n",
    "                \"correct\": correct,\n",
    "                \"score\": quiz['score']\n",
    "            })\n",
    "    return pd.DataFrame(records)\n",
    "\n",
    "current_df = prepare_current_quiz_df(current_quiz_data)\n",
    "historical_df = prepare_historical_quiz_df(historical_quiz_data)\n"
   ]
  },
  {
   "cell_type": "code",
   "execution_count": 15,
   "id": "d0f1d038-7c95-4fbe-83fa-7868238f7b89",
   "metadata": {},
   "outputs": [],
   "source": [
    "# Step 3: Analysis\n",
    "# Topic-wise Performance\n",
    "def analyze_topic_performance(current_df):\n",
    "    topic_summary = current_df.groupby(\"topic\").agg({\"correct\": [\"sum\", \"count\"]})\n",
    "    topic_summary.columns = [\"correct_answers\", \"total_questions\"]\n",
    "    topic_summary[\"accuracy\"] = topic_summary[\"correct_answers\"] / topic_summary[\"total_questions\"]\n",
    "    return topic_summary\n",
    "\n",
    "def analyze_difficulty_performance(current_df):\n",
    "    difficulty_summary = current_df.groupby(\"difficulty\").agg({\"correct\": [\"sum\", \"count\"]})\n",
    "    difficulty_summary.columns = [\"correct_answers\", \"total_questions\"]\n",
    "    difficulty_summary[\"accuracy\"] = difficulty_summary[\"correct_answers\"] / difficulty_summary[\"total_questions\"]\n",
    "    return difficulty_summary\n",
    "\n",
    "# Historical Performance Trends\n",
    "def analyze_historical_performance(historical_df):\n",
    "    scores = historical_df.groupby(\"quiz_id\")[\"score\"].mean()\n",
    "    accuracy = historical_df.groupby(\"quiz_id\")[\"correct\"].mean()\n",
    "    return scores, accuracy"
   ]
  },
  {
   "cell_type": "code",
   "execution_count": 17,
   "id": "2a5783d7-af23-408d-9aed-db99ebc31e1d",
   "metadata": {},
   "outputs": [],
   "source": [
    "# Generate Insights and Recommendations\n",
    "def generate_recommendations(current_topic_analysis, current_difficulty_analysis):\n",
    "    recommendations = []\n",
    "\n",
    "    # Weak Topics\n",
    "    weak_topics = current_topic_analysis[current_topic_analysis['accuracy'] < 0.7]\n",
    "    for topic in weak_topics.index:\n",
    "        recommendations.append(f\"Focus on improving performance in the topic: {topic}.\")\n",
    "\n",
    "    # Difficulty Level Insights\n",
    "    if 'Hard' in current_difficulty_analysis.index and current_difficulty_analysis.loc['Hard', 'accuracy'] < 0.6:\n",
    "        recommendations.append(\"Practice more hard-level questions to improve overall accuracy.\")\n",
    "    if 'Easy' in current_difficulty_analysis.index and current_difficulty_analysis.loc['Easy', 'accuracy'] > 0.9:\n",
    "        recommendations.append(\"You excel at easy questions. Challenge yourself with medium and hard questions.\")\n",
    "\n",
    "    return recommendations"
   ]
  },
  {
   "cell_type": "code",
   "execution_count": 19,
   "id": "3f27c9f8-a370-4d2e-ad45-ce5f09e0c561",
   "metadata": {},
   "outputs": [
    {
     "data": {
      "image/png": "[encoded data removed]",
      "text/plain": [
       "<Figure size 1000x600 with 2 Axes>"
      ]
     },
     "metadata": {},
     "output_type": "display_data"
    }
   ],
   "source": [
    "# Step 4: Visualizations\n",
    "def plot_performance_trends(scores, accuracy):\n",
    "    fig, ax1 = plt.subplots(figsize=(10, 6))\n",
    "\n",
    "    ax2 = ax1.twinx()\n",
    "    ax1.plot(scores.index, scores.values, 'g-', label=\"Score\")\n",
    "    ax2.plot(accuracy.index, accuracy.values, 'b-', label=\"Accuracy\")\n",
    "\n",
    "    ax1.set_xlabel('Quiz ID')\n",
    "    ax1.set_ylabel('Score', color='g')\n",
    "    ax2.set_ylabel('Accuracy', color='b')\n",
    "\n",
    "    plt.title('Performance Trends Over Time')\n",
    "    plt.show()\n",
    "\n",
    "# Generate Topic & Difficulty Analysis\n",
    "current_topic_analysis = analyze_topic_performance(current_df)\n",
    "current_difficulty_analysis = analyze_difficulty_performance(current_df)\n",
    "\n",
    "# Generate Historical Trends\n",
    "historical_scores, historical_accuracy = analyze_historical_performance(historical_df)\n",
    "\n",
    "# Generate Recommendations\n",
    "recommendations = generate_recommendations(current_topic_analysis, current_difficulty_analysis)\n",
    "\n",
    "# Visualize Trends\n",
    "plot_performance_trends(historical_scores, historical_accuracy)\n"
   ]
  },
  {
   "cell_type": "code",
   "execution_count": 21,
   "id": "b3e40162-f5b1-48bf-ad93-df9feccf8277",
   "metadata": {},
   "outputs": [
    {
     "name": "stdout",
     "output_type": "stream",
     "text": [
      "Current Quiz Topic Analysis:\n",
      "                                               correct_answers  \\\n",
      "topic                                                            \n",
      "Structural Organisation in Animals and Plants                0   \n",
      "\n",
      "                                               total_questions  accuracy  \n",
      "topic                                                                     \n",
      "Structural Organisation in Animals and Plants                1       0.0  \n",
      "\n",
      "Current Quiz Difficulty Analysis:\n",
      "            correct_answers  total_questions  accuracy\n",
      "difficulty                                            \n",
      "Easy                      0                1       0.0\n",
      "\n",
      "Historical Performance Trends:\n",
      "Scores:\n",
      "quiz_id\n",
      "1    108.0\n",
      "2    108.0\n",
      "Name: score, dtype: float64\n",
      "Accuracy:\n",
      "quiz_id\n",
      "1    1.000000\n",
      "2    0.666667\n",
      "Name: correct, dtype: float64\n",
      "\n",
      "Recommendations:\n",
      "- Focus on improving performance in the topic: Structural Organisation in Animals and Plants.\n"
     ]
    }
   ],
   "source": [
    "# Display Insights\n",
    "print(\"Current Quiz Topic Analysis:\")\n",
    "print(current_topic_analysis)\n",
    "\n",
    "print(\"\\nCurrent Quiz Difficulty Analysis:\")\n",
    "print(current_difficulty_analysis)\n",
    "\n",
    "print(\"\\nHistorical Performance Trends:\")\n",
    "print(\"Scores:\")\n",
    "print(historical_scores)\n",
    "print(\"Accuracy:\")\n",
    "print(historical_accuracy)\n",
    "\n",
    "print(\"\\nRecommendations:\")\n",
    "for rec in recommendations:\n",
    "    print(f\"- {rec}\")"
   ]
  },
  {
   "cell_type": "code",
   "execution_count": 23,
   "id": "4b128967-07fb-4cc0-80b8-3f8108757bf7",
   "metadata": {},
   "outputs": [
    {
     "name": "stdout",
     "output_type": "stream",
     "text": [
      "\n",
      "Student Persona:\n",
      "{'Strengths': [], 'Weaknesses': ['Structural Organisation in Animals and Plants'], 'Learning Style': 'Likely benefits from targeted practice and progressive difficulty increases.'}\n"
     ]
    }
   ],
   "source": [
    "# Bonus: Define Student Persona\n",
    "def define_student_persona(current_topic_analysis, current_difficulty_analysis):\n",
    "    strengths = current_topic_analysis[current_topic_analysis['accuracy'] > 0.8].index.tolist()\n",
    "    weaknesses = current_topic_analysis[current_topic_analysis['accuracy'] < 0.7].index.tolist()\n",
    "\n",
    "    persona = {\n",
    "        \"Strengths\": strengths,\n",
    "        \"Weaknesses\": weaknesses,\n",
    "        \"Learning Style\": \"Likely benefits from targeted practice and progressive difficulty increases.\"\n",
    "    }\n",
    "    return persona\n",
    "\n",
    "student_persona = define_student_persona(current_topic_analysis, current_difficulty_analysis)\n",
    "\n",
    "print(\"\\nStudent Persona:\")\n",
    "print(student_persona)\n"
   ]
  },
  {
   "cell_type": "code",
   "execution_count": null,
   "id": "99f4f253-a1df-4d29-8e13-cfe20ad50cc6",
   "metadata": {},
   "outputs": [],
   "source": []
  }
 ],
 "metadata": {
  "kernelspec": {
   "display_name": "Python [conda env:base] *",
   "language": "python",
   "name": "conda-base-py"
  },
  "language_info": {
   "codemirror_mode": {
    "name": "ipython",
    "version": 3
   },
   "file_extension": ".py",
   "mimetype": "text/x-python",
   "name": "python",
   "nbconvert_exporter": "python",
   "pygments_lexer": "ipython3",
   "version": "3.12.7"
  }
 },
 "nbformat": 4,
 "nbformat_minor": 5
}
